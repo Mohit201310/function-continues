{
 "cells": [
  {
   "cell_type": "code",
   "execution_count": 1,
   "id": "1c9efcf4-dcad-49e1-bf8c-5d97ea95a4a7",
   "metadata": {},
   "outputs": [],
   "source": [
    "def test1(func):\n",
    "    def test2():\n",
    "        print(\" i am inside test2\")\n",
    "        func()\n",
    "        print(func())\n",
    "        print(\" function executed\")\n",
    "        return func()\n",
    "    return test2"
   ]
  },
  {
   "cell_type": "code",
   "execution_count": 2,
   "id": "fae08d2e-2302-4d43-af8b-37a5878ffdcb",
   "metadata": {},
   "outputs": [],
   "source": [
    "@test1\n",
    "def test3():\n",
    "    print(\" thi is my test3\")"
   ]
  },
  {
   "cell_type": "code",
   "execution_count": 3,
   "id": "52a7af75-8222-4dac-abe0-aaee815d0a3a",
   "metadata": {},
   "outputs": [
    {
     "name": "stdout",
     "output_type": "stream",
     "text": [
      " i am inside test2\n",
      " thi is my test3\n",
      " thi is my test3\n",
      "None\n",
      " function executed\n",
      " thi is my test3\n"
     ]
    }
   ],
   "source": [
    "test3()"
   ]
  },
  {
   "cell_type": "code",
   "execution_count": 4,
   "id": "2780d41e-72b2-400d-b1ab-d320813af3ee",
   "metadata": {},
   "outputs": [
    {
     "data": {
      "text/plain": [
       "<function __main__.test1.<locals>.test2()>"
      ]
     },
     "execution_count": 4,
     "metadata": {},
     "output_type": "execute_result"
    }
   ],
   "source": [
    "test1(test3)"
   ]
  },
  {
   "cell_type": "code",
   "execution_count": 5,
   "id": "8b7db32a-5e16-4ffe-b9d0-f7646f50b71a",
   "metadata": {},
   "outputs": [],
   "source": [
    "@test1\n",
    "def test4():\n",
    "    return 5+6"
   ]
  },
  {
   "cell_type": "code",
   "execution_count": 6,
   "id": "604c5847-ad5c-4680-a14f-c1c59a03f4ea",
   "metadata": {},
   "outputs": [
    {
     "name": "stdout",
     "output_type": "stream",
     "text": [
      " i am inside test2\n",
      "11\n",
      " function executed\n"
     ]
    },
    {
     "data": {
      "text/plain": [
       "int"
      ]
     },
     "execution_count": 6,
     "metadata": {},
     "output_type": "execute_result"
    }
   ],
   "source": [
    "type(test4())"
   ]
  },
  {
   "cell_type": "code",
   "execution_count": 7,
   "id": "6cda848a-9607-4cef-8349-3603dce422a6",
   "metadata": {},
   "outputs": [
    {
     "name": "stdout",
     "output_type": "stream",
     "text": [
      " i am inside test2\n",
      "11\n",
      " function executed\n"
     ]
    }
   ],
   "source": [
    "a = test4()"
   ]
  },
  {
   "cell_type": "code",
   "execution_count": 8,
   "id": "6c333e22-56c6-41dd-8592-a3bc21d7b282",
   "metadata": {},
   "outputs": [
    {
     "name": "stdout",
     "output_type": "stream",
     "text": [
      " i am inside test2\n",
      "11\n",
      " function executed\n"
     ]
    },
    {
     "data": {
      "text/plain": [
       "67"
      ]
     },
     "execution_count": 8,
     "metadata": {},
     "output_type": "execute_result"
    }
   ],
   "source": [
    "test4() + 56"
   ]
  },
  {
   "cell_type": "code",
   "execution_count": 9,
   "id": "f11e047f-68f4-4fd6-8d39-7170775f1995",
   "metadata": {},
   "outputs": [
    {
     "data": {
      "text/plain": [
       "11"
      ]
     },
     "execution_count": 9,
     "metadata": {},
     "output_type": "execute_result"
    }
   ],
   "source": [
    "a"
   ]
  },
  {
   "cell_type": "code",
   "execution_count": 10,
   "id": "09cbf0c0-a331-4092-a0d3-bcae3b09475e",
   "metadata": {},
   "outputs": [
    {
     "name": "stdout",
     "output_type": "stream",
     "text": [
      "11\n"
     ]
    }
   ],
   "source": [
    "print(a)"
   ]
  },
  {
   "cell_type": "code",
   "execution_count": 11,
   "id": "5d479430-81c6-48f5-9425-e6caedecea5a",
   "metadata": {},
   "outputs": [
    {
     "name": "stdout",
     "output_type": "stream",
     "text": [
      " i am inside test2\n",
      "11\n",
      " function executed\n"
     ]
    },
    {
     "data": {
      "text/plain": [
       "23"
      ]
     },
     "execution_count": 11,
     "metadata": {},
     "output_type": "execute_result"
    }
   ],
   "source": [
    "test4() + 12"
   ]
  },
  {
   "cell_type": "code",
   "execution_count": 12,
   "id": "fc504445-24bc-4feb-bb0e-8f3f09536580",
   "metadata": {},
   "outputs": [],
   "source": [
    "def test5():\n",
    "    return 4+5"
   ]
  },
  {
   "cell_type": "code",
   "execution_count": 13,
   "id": "4c9f51d6-bf61-41ff-bb2b-49e62f40f157",
   "metadata": {},
   "outputs": [
    {
     "data": {
      "text/plain": [
       "9"
      ]
     },
     "execution_count": 13,
     "metadata": {},
     "output_type": "execute_result"
    }
   ],
   "source": [
    "test5()"
   ]
  },
  {
   "cell_type": "code",
   "execution_count": 14,
   "id": "2a7acd5a-81f5-45d9-8ee2-9e4dbb0a9ce4",
   "metadata": {},
   "outputs": [
    {
     "data": {
      "text/plain": [
       "int"
      ]
     },
     "execution_count": 14,
     "metadata": {},
     "output_type": "execute_result"
    }
   ],
   "source": [
    "type(test5())"
   ]
  },
  {
   "cell_type": "code",
   "execution_count": 15,
   "id": "f38c6756-a69f-4c7d-b26a-718568e1cf84",
   "metadata": {},
   "outputs": [
    {
     "data": {
      "text/plain": [
       "54"
      ]
     },
     "execution_count": 15,
     "metadata": {},
     "output_type": "execute_result"
    }
   ],
   "source": [
    "test5() + 45"
   ]
  },
  {
   "cell_type": "code",
   "execution_count": 16,
   "id": "c23e7b18-ff29-405f-8555-7e8fb926575c",
   "metadata": {},
   "outputs": [],
   "source": [
    "def test6(func):\n",
    "    def test7():\n",
    "        func()\n",
    "        print(func())\n",
    "        print(\" this is my decorator functions\")\n",
    "        return func()\n",
    "    return test7"
   ]
  },
  {
   "cell_type": "code",
   "execution_count": 17,
   "id": "ba6bb9c7-6221-48ce-80eb-4201c3d48511",
   "metadata": {},
   "outputs": [],
   "source": [
    "def test8():\n",
    "    return 5+7"
   ]
  },
  {
   "cell_type": "code",
   "execution_count": 18,
   "id": "d4412d27-9e2e-4300-b87c-418c78ebf0df",
   "metadata": {},
   "outputs": [
    {
     "data": {
      "text/plain": [
       "24"
      ]
     },
     "execution_count": 18,
     "metadata": {},
     "output_type": "execute_result"
    }
   ],
   "source": [
    "test8() + 12"
   ]
  },
  {
   "cell_type": "code",
   "execution_count": 19,
   "id": "1eb1f811-411d-4061-8537-1755a65aa7b4",
   "metadata": {},
   "outputs": [],
   "source": [
    "@test6\n",
    "def test8():\n",
    "    return 5+7"
   ]
  },
  {
   "cell_type": "code",
   "execution_count": 20,
   "id": "04994c7c-356d-417e-b836-934be8d72e9d",
   "metadata": {},
   "outputs": [
    {
     "name": "stdout",
     "output_type": "stream",
     "text": [
      "12\n",
      " this is my decorator functions\n"
     ]
    },
    {
     "data": {
      "text/plain": [
       "12"
      ]
     },
     "execution_count": 20,
     "metadata": {},
     "output_type": "execute_result"
    }
   ],
   "source": [
    "test8()"
   ]
  },
  {
   "cell_type": "code",
   "execution_count": 21,
   "id": "afd20a01-7809-4a33-8d73-950cfae1d741",
   "metadata": {},
   "outputs": [
    {
     "name": "stdout",
     "output_type": "stream",
     "text": [
      "12\n",
      " this is my decorator functions\n"
     ]
    },
    {
     "data": {
      "text/plain": [
       "112"
      ]
     },
     "execution_count": 21,
     "metadata": {},
     "output_type": "execute_result"
    }
   ],
   "source": [
    "test8 () + 100"
   ]
  },
  {
   "cell_type": "code",
   "execution_count": 22,
   "id": "306d1313-f5e3-4df0-8bb0-6f98acd8e54c",
   "metadata": {},
   "outputs": [
    {
     "name": "stdout",
     "output_type": "stream",
     "text": [
      "12\n",
      " this is my decorator functions\n"
     ]
    },
    {
     "data": {
      "text/plain": [
       "int"
      ]
     },
     "execution_count": 22,
     "metadata": {},
     "output_type": "execute_result"
    }
   ],
   "source": [
    "type(test8())"
   ]
  },
  {
   "cell_type": "code",
   "execution_count": 23,
   "id": "6010f127-f261-4f43-b2cb-374af3b43c5f",
   "metadata": {},
   "outputs": [],
   "source": [
    "def test6(func):\n",
    "    def test7(*args,**kwargs):\n",
    "        func(*args,**kwargs)\n",
    "        print(func(*args,**kwargs))\n",
    "        print(\" this is my decorator functions\")\n",
    "        return func(*args,**kwargs)\n",
    "    return test7"
   ]
  },
  {
   "cell_type": "code",
   "execution_count": 24,
   "id": "fca5e686-20be-44d1-8a51-c9c51dfc150a",
   "metadata": {},
   "outputs": [],
   "source": [
    "@test6\n",
    "def test8(a,b):\n",
    "    return a+b"
   ]
  },
  {
   "cell_type": "code",
   "execution_count": 25,
   "id": "829186b9-3745-4330-b2e8-098a1df12f07",
   "metadata": {},
   "outputs": [
    {
     "name": "stdout",
     "output_type": "stream",
     "text": [
      "mohityadav\n",
      " this is my decorator functions\n"
     ]
    },
    {
     "data": {
      "text/plain": [
       "'mohityadav'"
      ]
     },
     "execution_count": 25,
     "metadata": {},
     "output_type": "execute_result"
    }
   ],
   "source": [
    "test8(\"mohit\", \"yadav\")"
   ]
  },
  {
   "cell_type": "code",
   "execution_count": 26,
   "id": "d62908bb-c992-42b1-b42e-3cef18ca5cfd",
   "metadata": {},
   "outputs": [],
   "source": [
    "@test6\n",
    "def test9(**kwargs):\n",
    "    return kwargs"
   ]
  },
  {
   "cell_type": "code",
   "execution_count": 27,
   "id": "81ef16d0-cc37-49c4-b2ae-cff22922f48d",
   "metadata": {},
   "outputs": [
    {
     "name": "stdout",
     "output_type": "stream",
     "text": [
      "{'a': 89, 'b': 67}\n",
      " this is my decorator functions\n"
     ]
    },
    {
     "data": {
      "text/plain": [
       "{'a': 89, 'b': 67}"
      ]
     },
     "execution_count": 27,
     "metadata": {},
     "output_type": "execute_result"
    }
   ],
   "source": [
    "test9(a = 89 , b = 67)"
   ]
  },
  {
   "cell_type": "code",
   "execution_count": 28,
   "id": "883c3e74-14eb-4aa5-b69e-fff205a34737",
   "metadata": {},
   "outputs": [],
   "source": [
    "def test10(a,b):\n",
    "    return a+b"
   ]
  },
  {
   "cell_type": "code",
   "execution_count": 29,
   "id": "5979b4a0-3488-464b-b0e0-f221caa97b92",
   "metadata": {},
   "outputs": [
    {
     "data": {
      "text/plain": [
       "7"
      ]
     },
     "execution_count": 29,
     "metadata": {},
     "output_type": "execute_result"
    }
   ],
   "source": [
    "test10(3,4)"
   ]
  },
  {
   "cell_type": "code",
   "execution_count": 30,
   "id": "a4ed70ba-6fe5-4ccd-8203-b1bec0c38365",
   "metadata": {},
   "outputs": [
    {
     "data": {
      "text/plain": [
       "'mohit yadav'"
      ]
     },
     "execution_count": 30,
     "metadata": {},
     "output_type": "execute_result"
    }
   ],
   "source": [
    "test10(\"mohit\",\" yadav\")"
   ]
  },
  {
   "cell_type": "code",
   "execution_count": 31,
   "id": "f25aa4ec-69b6-467c-8ff9-6c3fe374d5a3",
   "metadata": {},
   "outputs": [],
   "source": [
    "c = lambda a,b : a+b"
   ]
  },
  {
   "cell_type": "code",
   "execution_count": 32,
   "id": "34348ab3-200e-4d36-bd61-d32cca331881",
   "metadata": {},
   "outputs": [
    {
     "data": {
      "text/plain": [
       "<function __main__.test10(a, b)>"
      ]
     },
     "execution_count": 32,
     "metadata": {},
     "output_type": "execute_result"
    }
   ],
   "source": [
    "test10"
   ]
  },
  {
   "cell_type": "code",
   "execution_count": 33,
   "id": "8b1e1650-1237-4c44-a74e-8b8b15b65735",
   "metadata": {},
   "outputs": [
    {
     "data": {
      "text/plain": [
       "'mohit yadav'"
      ]
     },
     "execution_count": 33,
     "metadata": {},
     "output_type": "execute_result"
    }
   ],
   "source": [
    "c(\"mohit\" , \" yadav\")"
   ]
  },
  {
   "cell_type": "code",
   "execution_count": 34,
   "id": "67caacd0-7070-4269-9998-725146dfc286",
   "metadata": {},
   "outputs": [],
   "source": [
    "d = lambda a,b,c,d: a*b+c/d"
   ]
  },
  {
   "cell_type": "code",
   "execution_count": 35,
   "id": "97efad4e-5dad-4afa-8d20-534859bfcc58",
   "metadata": {},
   "outputs": [
    {
     "data": {
      "text/plain": [
       "6.8"
      ]
     },
     "execution_count": 35,
     "metadata": {},
     "output_type": "execute_result"
    }
   ],
   "source": [
    "d(2,3,4,5)"
   ]
  },
  {
   "cell_type": "code",
   "execution_count": 36,
   "id": "6b61ddc9-e14e-446e-908c-0573815dce3b",
   "metadata": {},
   "outputs": [],
   "source": [
    "e = lambda *args : args"
   ]
  },
  {
   "cell_type": "code",
   "execution_count": 37,
   "id": "d05339b1-fcac-4cb2-ba96-c32710479b7d",
   "metadata": {},
   "outputs": [
    {
     "data": {
      "text/plain": [
       "()"
      ]
     },
     "execution_count": 37,
     "metadata": {},
     "output_type": "execute_result"
    }
   ],
   "source": [
    "e()"
   ]
  },
  {
   "cell_type": "code",
   "execution_count": 38,
   "id": "06cef968-e428-493e-983f-fa36028fcf05",
   "metadata": {},
   "outputs": [
    {
     "data": {
      "text/plain": [
       "(3, 4, 5)"
      ]
     },
     "execution_count": 38,
     "metadata": {},
     "output_type": "execute_result"
    }
   ],
   "source": [
    "e(3,4,5)"
   ]
  },
  {
   "cell_type": "code",
   "execution_count": 39,
   "id": "b5a341a0-3624-4824-a764-41b3a5c1ad1b",
   "metadata": {},
   "outputs": [],
   "source": [
    "#map()"
   ]
  },
  {
   "cell_type": "code",
   "execution_count": 40,
   "id": "ab6409a4-1852-4811-a2de-941ec9926363",
   "metadata": {},
   "outputs": [],
   "source": [
    "l = [1,2,3,4,5,6,7]"
   ]
  },
  {
   "cell_type": "code",
   "execution_count": 41,
   "id": "f3fe68ca-72da-4922-9dc4-6e6e257c1e7a",
   "metadata": {},
   "outputs": [],
   "source": [
    "l1 = []\n",
    "for i in l:\n",
    "    l1.append(i + 10)\n",
    "    "
   ]
  },
  {
   "cell_type": "code",
   "execution_count": 42,
   "id": "1122c9a0-f1ee-45a9-8d23-f0805bb9fc70",
   "metadata": {},
   "outputs": [
    {
     "data": {
      "text/plain": [
       "[11, 12, 13, 14, 15, 16, 17]"
      ]
     },
     "execution_count": 42,
     "metadata": {},
     "output_type": "execute_result"
    }
   ],
   "source": [
    "l1"
   ]
  },
  {
   "cell_type": "code",
   "execution_count": 43,
   "id": "63b1e426-7f40-4594-ad17-d85d33ce7a24",
   "metadata": {},
   "outputs": [],
   "source": [
    "def test14(a):\n",
    "    return a + 10"
   ]
  },
  {
   "cell_type": "code",
   "execution_count": 44,
   "id": "a1488880-7fb7-4381-babd-66372ef984ad",
   "metadata": {},
   "outputs": [
    {
     "data": {
      "text/plain": [
       "[11, 12, 13, 14, 15, 16, 17]"
      ]
     },
     "execution_count": 44,
     "metadata": {},
     "output_type": "execute_result"
    }
   ],
   "source": [
    "list(map(test14 , l))"
   ]
  },
  {
   "cell_type": "code",
   "execution_count": 45,
   "id": "c0aa1b1f-6721-43de-8f84-f8497af4c849",
   "metadata": {},
   "outputs": [
    {
     "data": {
      "text/plain": [
       "[11, 12, 13, 14, 15, 16, 17]"
      ]
     },
     "execution_count": 45,
     "metadata": {},
     "output_type": "execute_result"
    }
   ],
   "source": [
    "list(map(lambda a :a + 10 , l))"
   ]
  },
  {
   "cell_type": "code",
   "execution_count": 46,
   "id": "3d2ec08c-d9ec-43b0-8507-9f175f16fb82",
   "metadata": {},
   "outputs": [],
   "source": [
    "n = lambda a: a+ 10 "
   ]
  },
  {
   "cell_type": "code",
   "execution_count": 47,
   "id": "757cfac1-22f4-4a8e-835e-f773a1ea47c0",
   "metadata": {},
   "outputs": [
    {
     "data": {
      "text/plain": [
       "[11, 12, 13, 14, 15, 16, 17]"
      ]
     },
     "execution_count": 47,
     "metadata": {},
     "output_type": "execute_result"
    }
   ],
   "source": [
    "list(map(n, l))"
   ]
  },
  {
   "cell_type": "code",
   "execution_count": 48,
   "id": "8544c4e3-5d60-4bd2-b622-5303a55a39c8",
   "metadata": {},
   "outputs": [],
   "source": [
    "l = [\"mohit\",\"yadav\", \"ineuron\"]"
   ]
  },
  {
   "cell_type": "code",
   "execution_count": 49,
   "id": "653d587e-8409-449f-ae40-b0da24eb927e",
   "metadata": {},
   "outputs": [],
   "source": [
    "l1 =[]\n",
    "for i in l:\n",
    "    l1.append(i.upper())"
   ]
  },
  {
   "cell_type": "code",
   "execution_count": 50,
   "id": "1d9c666d-8f3c-4883-8d4a-5cb4502ea5d9",
   "metadata": {},
   "outputs": [
    {
     "data": {
      "text/plain": [
       "['MOHIT', 'YADAV', 'INEURON']"
      ]
     },
     "execution_count": 50,
     "metadata": {},
     "output_type": "execute_result"
    }
   ],
   "source": [
    "l1"
   ]
  },
  {
   "cell_type": "code",
   "execution_count": 51,
   "id": "9eff87cc-bcbc-4808-a13e-9ae11cfa837c",
   "metadata": {},
   "outputs": [
    {
     "data": {
      "text/plain": [
       "['MOHIT', 'YADAV', 'INEURON']"
      ]
     },
     "execution_count": 51,
     "metadata": {},
     "output_type": "execute_result"
    }
   ],
   "source": [
    "list(map(lambda a:a.upper(),l))"
   ]
  },
  {
   "cell_type": "code",
   "execution_count": 52,
   "id": "0ca71fdb-e043-48a0-84c8-af36fae9f16f",
   "metadata": {},
   "outputs": [
    {
     "data": {
      "text/plain": [
       "['MOHIT', 'YADAV', 'INEURON']"
      ]
     },
     "execution_count": 52,
     "metadata": {},
     "output_type": "execute_result"
    }
   ],
   "source": [
    "list(map(str.upper,l))"
   ]
  },
  {
   "cell_type": "code",
   "execution_count": 53,
   "id": "68493da7-8672-481b-b5ae-0c1761151e51",
   "metadata": {},
   "outputs": [],
   "source": [
    "def upper_str(a):\n",
    "    return a.upper()"
   ]
  },
  {
   "cell_type": "code",
   "execution_count": 54,
   "id": "9e9bfb2a-1a26-4482-8a53-69087aa191a1",
   "metadata": {},
   "outputs": [
    {
     "data": {
      "text/plain": [
       "['MOHIT', 'YADAV', 'INEURON']"
      ]
     },
     "execution_count": 54,
     "metadata": {},
     "output_type": "execute_result"
    }
   ],
   "source": [
    "list(map(upper_str , l))"
   ]
  },
  {
   "cell_type": "code",
   "execution_count": 55,
   "id": "204a9628-4bb6-4bae-8f96-7f9e679d3167",
   "metadata": {},
   "outputs": [
    {
     "data": {
      "text/plain": [
       "[5, 5, 7]"
      ]
     },
     "execution_count": 55,
     "metadata": {},
     "output_type": "execute_result"
    }
   ],
   "source": [
    "list(map(len , l))"
   ]
  },
  {
   "cell_type": "code",
   "execution_count": 56,
   "id": "9e389d21-0f24-4e6b-a796-38e564c100bb",
   "metadata": {},
   "outputs": [
    {
     "data": {
      "text/plain": [
       "[5, 5, 7]"
      ]
     },
     "execution_count": 56,
     "metadata": {},
     "output_type": "execute_result"
    }
   ],
   "source": [
    "list(map(lambda a: len(a) , l ))"
   ]
  },
  {
   "cell_type": "code",
   "execution_count": 57,
   "id": "f76274b8-b0a9-4d65-b48c-42b72c77f22c",
   "metadata": {},
   "outputs": [],
   "source": [
    "def test23(a):\n",
    "    return len(a)"
   ]
  },
  {
   "cell_type": "code",
   "execution_count": 58,
   "id": "bd279678-b4a5-43c7-a865-7dc2d966bb6b",
   "metadata": {},
   "outputs": [
    {
     "data": {
      "text/plain": [
       "[5, 5, 7]"
      ]
     },
     "execution_count": 58,
     "metadata": {},
     "output_type": "execute_result"
    }
   ],
   "source": [
    "list(map(test23 , l))"
   ]
  },
  {
   "cell_type": "code",
   "execution_count": 59,
   "id": "c1d50708-55d0-42e6-92fd-07f4b67fd643",
   "metadata": {},
   "outputs": [],
   "source": [
    "l = [1,2,3,4,5,6,7,8]"
   ]
  },
  {
   "cell_type": "code",
   "execution_count": 60,
   "id": "58586b71-8c5f-478e-a15c-1401f3196d9b",
   "metadata": {},
   "outputs": [],
   "source": [
    "l1 =[]\n",
    "for i in l:\n",
    "    if i % 2 == 0:\n",
    "        l1.append(i)"
   ]
  },
  {
   "cell_type": "code",
   "execution_count": 61,
   "id": "09505181-38a7-4760-985c-772465d79341",
   "metadata": {},
   "outputs": [
    {
     "data": {
      "text/plain": [
       "[2, 4, 6, 8]"
      ]
     },
     "execution_count": 61,
     "metadata": {},
     "output_type": "execute_result"
    }
   ],
   "source": [
    "l1"
   ]
  },
  {
   "cell_type": "code",
   "execution_count": 62,
   "id": "f504edc2-c917-4c33-8487-1bb610f171b6",
   "metadata": {},
   "outputs": [
    {
     "data": {
      "text/plain": [
       "[2, 4, 6, 8]"
      ]
     },
     "execution_count": 62,
     "metadata": {},
     "output_type": "execute_result"
    }
   ],
   "source": [
    "[i for i in l if i%2 == 0 ]     # list comprehension "
   ]
  },
  {
   "cell_type": "code",
   "execution_count": 63,
   "id": "499d4acd-3780-4298-ba56-2eddfaa9eac7",
   "metadata": {},
   "outputs": [],
   "source": [
    "def test24(a):\n",
    "    l =[]\n",
    "    if type(a) == list:\n",
    "        for i in a :\n",
    "            if i%2 == 0 :\n",
    "                l.append(i)\n",
    "    return l"
   ]
  },
  {
   "cell_type": "code",
   "execution_count": 64,
   "id": "9231ddd7-4fec-45a2-8d7c-4ec35d7cbabc",
   "metadata": {},
   "outputs": [
    {
     "data": {
      "text/plain": [
       "[2, 4, 6, 8]"
      ]
     },
     "execution_count": 64,
     "metadata": {},
     "output_type": "execute_result"
    }
   ],
   "source": [
    "test24(l)"
   ]
  },
  {
   "cell_type": "code",
   "execution_count": 65,
   "id": "b7224b0b-5135-4b07-801d-262ecd795e5b",
   "metadata": {},
   "outputs": [],
   "source": [
    "a = lambda a : a if a%2 == 0 else None"
   ]
  },
  {
   "cell_type": "code",
   "execution_count": 66,
   "id": "89a3474c-8a3e-4634-889a-eda6017d8941",
   "metadata": {},
   "outputs": [
    {
     "data": {
      "text/plain": [
       "[None, 2, None, 4, None, 6, None, 8]"
      ]
     },
     "execution_count": 66,
     "metadata": {},
     "output_type": "execute_result"
    }
   ],
   "source": [
    "list(map(a , l))"
   ]
  },
  {
   "cell_type": "code",
   "execution_count": 67,
   "id": "91c0b21d-cb28-47a8-a0a1-869f8be9b1a0",
   "metadata": {},
   "outputs": [
    {
     "data": {
      "text/plain": [
       "[2, 4, 6, 8]"
      ]
     },
     "execution_count": 67,
     "metadata": {},
     "output_type": "execute_result"
    }
   ],
   "source": [
    "list(filter(a,l))"
   ]
  },
  {
   "cell_type": "code",
   "execution_count": 68,
   "id": "d480a7ff-18b6-4caa-8a09-6a54aac4b71e",
   "metadata": {},
   "outputs": [],
   "source": [
    "def test25(a):\n",
    "    if a %2 == 0 :\n",
    "        return True\n",
    "    else:\n",
    "        return False"
   ]
  },
  {
   "cell_type": "code",
   "execution_count": 69,
   "id": "3312f4d6-32d5-4ecb-b606-f983a2fe2015",
   "metadata": {},
   "outputs": [
    {
     "data": {
      "text/plain": [
       "True"
      ]
     },
     "execution_count": 69,
     "metadata": {},
     "output_type": "execute_result"
    }
   ],
   "source": [
    "test25(30)"
   ]
  },
  {
   "cell_type": "code",
   "execution_count": 70,
   "id": "1ebe8ba7-6434-4d05-9e9c-1fbdd056a977",
   "metadata": {},
   "outputs": [
    {
     "data": {
      "text/plain": [
       "False"
      ]
     },
     "execution_count": 70,
     "metadata": {},
     "output_type": "execute_result"
    }
   ],
   "source": [
    "test25(23)"
   ]
  },
  {
   "cell_type": "code",
   "execution_count": 71,
   "id": "8524bb70-4424-4d21-9fdc-5b339d3e6a1d",
   "metadata": {},
   "outputs": [
    {
     "data": {
      "text/plain": [
       "[2, 4, 6, 8]"
      ]
     },
     "execution_count": 71,
     "metadata": {},
     "output_type": "execute_result"
    }
   ],
   "source": [
    "list(filter(test25 , l))"
   ]
  },
  {
   "cell_type": "code",
   "execution_count": 72,
   "id": "f262a4fa-bde1-47d0-9732-4b5526864b83",
   "metadata": {},
   "outputs": [
    {
     "data": {
      "text/plain": [
       "[1, 2, 3, 4, 5, 6, 7, 8]"
      ]
     },
     "execution_count": 72,
     "metadata": {},
     "output_type": "execute_result"
    }
   ],
   "source": [
    "l"
   ]
  },
  {
   "cell_type": "code",
   "execution_count": 73,
   "id": "35ba6e98-aeb6-4545-823f-82df22ab3c13",
   "metadata": {},
   "outputs": [
    {
     "data": {
      "text/plain": [
       "36"
      ]
     },
     "execution_count": 73,
     "metadata": {},
     "output_type": "execute_result"
    }
   ],
   "source": [
    "sum(l)"
   ]
  },
  {
   "cell_type": "code",
   "execution_count": 74,
   "id": "9ebaa85e-c0f2-447c-8e6b-aacfcd5a9b72",
   "metadata": {},
   "outputs": [
    {
     "data": {
      "text/plain": [
       "[1, 2, 3, 4, 5, 6, 7, 8]"
      ]
     },
     "execution_count": 74,
     "metadata": {},
     "output_type": "execute_result"
    }
   ],
   "source": [
    "l"
   ]
  },
  {
   "cell_type": "code",
   "execution_count": 75,
   "id": "7a0705ff-5d4f-48ac-96a6-ceb219912d10",
   "metadata": {},
   "outputs": [],
   "source": [
    "from functools import reduce"
   ]
  },
  {
   "cell_type": "code",
   "execution_count": 76,
   "id": "ee1df616-b043-4a9c-8eac-1f51b64df798",
   "metadata": {},
   "outputs": [
    {
     "data": {
      "text/plain": [
       "40320"
      ]
     },
     "execution_count": 76,
     "metadata": {},
     "output_type": "execute_result"
    }
   ],
   "source": [
    "reduce(lambda a,b : a*b ,l)"
   ]
  },
  {
   "cell_type": "code",
   "execution_count": 77,
   "id": "407b4b20-cc74-43eb-a19f-99b2e48ed763",
   "metadata": {},
   "outputs": [
    {
     "data": {
      "text/plain": [
       "[1, 2, 3, 4, 5, 6, 7, 8]"
      ]
     },
     "execution_count": 77,
     "metadata": {},
     "output_type": "execute_result"
    }
   ],
   "source": [
    "l"
   ]
  },
  {
   "cell_type": "code",
   "execution_count": 78,
   "id": "7ea5f0f2-4ad3-406e-8d87-62d31d4a0d5c",
   "metadata": {},
   "outputs": [],
   "source": [
    "l1 = [3]"
   ]
  },
  {
   "cell_type": "code",
   "execution_count": 79,
   "id": "a0911d22-9c31-4504-aad4-0dbc583beaa4",
   "metadata": {},
   "outputs": [
    {
     "data": {
      "text/plain": [
       "3"
      ]
     },
     "execution_count": 79,
     "metadata": {},
     "output_type": "execute_result"
    }
   ],
   "source": [
    "reduce(lambda a, b : a*b , l1)"
   ]
  },
  {
   "cell_type": "code",
   "execution_count": 112,
   "id": "acde9408-775c-4675-9067-76c029a34b1d",
   "metadata": {},
   "outputs": [],
   "source": [
    "def test26(a : int ,b: \"funct\", c = 234) -> int:\n",
    "    \"\"\"this is my doc string to give a hint to next programmer\"\"\"\n",
    "    return a+b+str(c)"
   ]
  },
  {
   "cell_type": "code",
   "execution_count": 113,
   "id": "3ef8db20-9bf5-4c4d-a85b-7488612e6bf4",
   "metadata": {},
   "outputs": [
    {
     "data": {
      "text/plain": [
       "'mohityadav234'"
      ]
     },
     "execution_count": 113,
     "metadata": {},
     "output_type": "execute_result"
    }
   ],
   "source": [
    "test26(\"mohit\",\"yadav\")"
   ]
  },
  {
   "cell_type": "code",
   "execution_count": null,
   "id": "0a21ca23-c6dc-4333-b763-9c08ed47cc1b",
   "metadata": {},
   "outputs": [],
   "source": []
  },
  {
   "cell_type": "code",
   "execution_count": null,
   "id": "7117e3ea-6c51-44c2-af8f-87817326e660",
   "metadata": {},
   "outputs": [],
   "source": []
  },
  {
   "cell_type": "code",
   "execution_count": null,
   "id": "7fcb037b-ff05-4d9d-80e5-23717591c60b",
   "metadata": {},
   "outputs": [],
   "source": []
  }
 ],
 "metadata": {
  "kernelspec": {
   "display_name": "Python 3 (ipykernel)",
   "language": "python",
   "name": "python3"
  },
  "language_info": {
   "codemirror_mode": {
    "name": "ipython",
    "version": 3
   },
   "file_extension": ".py",
   "mimetype": "text/x-python",
   "name": "python",
   "nbconvert_exporter": "python",
   "pygments_lexer": "ipython3",
   "version": "3.10.6"
  }
 },
 "nbformat": 4,
 "nbformat_minor": 5
}
